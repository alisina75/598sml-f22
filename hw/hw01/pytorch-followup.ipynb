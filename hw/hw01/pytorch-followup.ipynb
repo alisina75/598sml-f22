{
 "cells": [
  {
   "cell_type": "code",
   "execution_count": 1,
   "id": "c456d007-facb-465b-8e29-c432265801c7",
   "metadata": {},
   "outputs": [],
   "source": [
    "import numpy as np\n",
    "import matplotlib.pyplot as plt\n",
    "import torch\n",
    "%matplotlib inline\n",
    "%config InlineBackend.figure_format='retina'"
   ]
  },
  {
   "cell_type": "markdown",
   "id": "5ed2183e-b593-492e-aebc-86b1a1fb8edd",
   "metadata": {},
   "source": [
    "As a follow-up, let's compute the reverse-mode values for\n",
    "$$\n",
    "f(x_1, x_2) = \\log(x_1) + x_1\\ x_2 - \\sin(x_2)\n",
    "$$\n",
    "for a sample of $(x_1, x_2) = (2, 5)$"
   ]
  },
  {
   "cell_type": "code",
   "execution_count": 5,
   "id": "64d5cc89-78a5-4b85-8eb9-c013c3f56fe7",
   "metadata": {},
   "outputs": [],
   "source": [
    "x1 = # fixme\n",
    "x2 = # fixme"
   ]
  },
  {
   "cell_type": "code",
   "execution_count": 7,
   "id": "dfeb7e6e-fe7e-4b3e-862c-042c19cf77fe",
   "metadata": {},
   "outputs": [],
   "source": [
    "f = torch.log(x1) + x1 * x2 - torch.sin(x2)"
   ]
  },
  {
   "cell_type": "markdown",
   "id": "62c1cf42-229a-4671-9c9b-1e250ca37ec7",
   "metadata": {},
   "source": [
    "What is the value of the output?"
   ]
  },
  {
   "cell_type": "code",
   "execution_count": 18,
   "id": "a481557d-8868-44a3-a0a5-34ca975bc652",
   "metadata": {},
   "outputs": [],
   "source": [
    "# fixme"
   ]
  },
  {
   "cell_type": "markdown",
   "id": "5a4aec7b-ae5c-49f4-af58-db11fe331729",
   "metadata": {},
   "source": [
    "Now compute the gradient in reverse mode?"
   ]
  },
  {
   "cell_type": "code",
   "execution_count": 19,
   "id": "60071a29-3187-462e-ad45-665aabb6320c",
   "metadata": {},
   "outputs": [],
   "source": [
    "# fixme"
   ]
  },
  {
   "cell_type": "markdown",
   "id": "2007a0b6-82e4-42ce-ac5e-3555480fa175",
   "metadata": {},
   "source": [
    "And print out $\\frac{\\partial f}{\\partial x_1}$ and $\\frac{\\partial f}{\\partial x_2}$"
   ]
  },
  {
   "cell_type": "code",
   "execution_count": 20,
   "id": "f19fb68c-ec6d-4829-851e-9c9a2ed1929b",
   "metadata": {},
   "outputs": [
    {
     "name": "stdout",
     "output_type": "stream",
     "text": [
      "dfdx1 = \n",
      "dfdx2 = \n"
     ]
    }
   ],
   "source": [
    "print(f'dfdx1 = ')\n",
    "print(f'dfdx2 = ')"
   ]
  },
  {
   "cell_type": "markdown",
   "id": "3bc4ce0f-747a-476f-bec1-33bde2c035f8",
   "metadata": {},
   "source": []
  }
 ],
 "metadata": {
  "kernelspec": {
   "display_name": "Python 3 (ipykernel)",
   "language": "python",
   "name": "python3"
  },
  "language_info": {
   "codemirror_mode": {
    "name": "ipython",
    "version": 3
   },
   "file_extension": ".py",
   "mimetype": "text/x-python",
   "name": "python",
   "nbconvert_exporter": "python",
   "pygments_lexer": "ipython3",
   "version": "3.9.13"
  }
 },
 "nbformat": 4,
 "nbformat_minor": 5
}
